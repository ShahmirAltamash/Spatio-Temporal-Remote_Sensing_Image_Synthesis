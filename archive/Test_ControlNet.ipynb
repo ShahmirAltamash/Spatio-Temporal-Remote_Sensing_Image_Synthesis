{
 "cells": [
  {
   "cell_type": "code",
   "execution_count": null,
   "metadata": {},
   "outputs": [],
   "source": [
    "from diffusers import StableDiffusionControlNetPipeline, ControlNetModel, UniPCMultistepScheduler\n",
    "from diffusers.utils import load_image\n",
    "import torch\n",
    "import os\n",
    "import PIL"
   ]
  },
  {
   "cell_type": "code",
   "execution_count": null,
   "metadata": {},
   "outputs": [],
   "source": [
    "'''\n",
    "There are two models here: \n",
    "1) ControlNet with vanilla stable diffusion \n",
    "\n",
    "2) ControlNet with RSI stable diffusion \n",
    "\n",
    "'''\n",
    "\n",
    "\n",
    "\n",
    "base_model_path = \"spacenet_sd\"\n",
    "#remote_sensing_model = \"tjisousa/sd-remote-sensing-model-256\"\n",
    "\n",
    "controlnet_path = \"vanilla_controlnet\""
   ]
  },
  {
   "cell_type": "code",
   "execution_count": null,
   "metadata": {},
   "outputs": [],
   "source": [
    "controlnet = ControlNetModel.from_pretrained(controlnet_path, torch_dtype=torch.float16)\n",
    "pipe = StableDiffusionControlNetPipeline.from_pretrained(\n",
    "    base_model_path, controlnet=controlnet, torch_dtype=torch.float16,\n",
    "    cache_dir=\"RS_Saved Model\"\n",
    ")"
   ]
  },
  {
   "cell_type": "code",
   "execution_count": null,
   "metadata": {},
   "outputs": [],
   "source": [
    "pipe.scheduler = UniPCMultistepScheduler.from_config(pipe.scheduler.config)\n",
    "# remove following line if xformers is not installed or when using Torch 2.0.\n",
    "# pipe.enable_xformers_memory_efficient_attention()\n",
    "# memory optimization.\n",
    "pipe.enable_model_cpu_offload()"
   ]
  },
  {
   "cell_type": "markdown",
   "metadata": {},
   "source": []
  },
  {
   "cell_type": "code",
   "execution_count": null,
   "metadata": {},
   "outputs": [],
   "source": [
    "'''\n",
    "Add the directory paths to the images and the output directory.\n",
    "\n",
    "image_directory: str - is the folder for the conditions which are the input images.\n",
    "'''\n",
    "\n",
    "image_directory= \"F:\\Shahmir\\SD - Spacenet\\Conditions\"\n",
    "image_files = os.listdir(image_directory)\n",
    "#output_directory= \"F:\\Shahmir\\ControlNet Satellite Imagery\\Images_ControlNet RSI Stable diffusion\"\n",
    "output_directory= \"F:\\Shahmir\\ControlNet Satellite Imagery\\Images_ConrolNet Vanilla\""
   ]
  },
  {
   "cell_type": "code",
   "execution_count": null,
   "metadata": {},
   "outputs": [],
   "source": [
    "for image in image_files:\n",
    "    image_path = os.path.join(image_directory, image)\n",
    "    print(image)\n",
    "    break"
   ]
  },
  {
   "cell_type": "code",
   "execution_count": null,
   "metadata": {},
   "outputs": [],
   "source": [
    "for image in image_files:\n",
    "    image_path = os.path.join(image_directory, image)\n",
    "    control_image = load_image(image_path)\n",
    "    prompt =\" Generate a high- resolution  aerial satellite image of a city with lots of trees and greenry. \\\n",
    "    Houses should have brown roofs.\\\n",
    "    Focus on surrounding vegetation which is deep green with varied shades. \\\n",
    "    Roads should be sharply defined agaisnt the landscape. Image should be ulta high definition.\"\n",
    "\n",
    "    generator = torch.manual_seed(0)\n",
    "    output = pipe(prompt, num_inference_steps=100, generator=generator, image=control_image).images[0]\n",
    "    output_path = os.path.join(output_directory, image)\n",
    "    print(output_path)\n",
    "    output.save(output_path)\n",
    "    "
   ]
  },
  {
   "cell_type": "code",
   "execution_count": 24,
   "metadata": {},
   "outputs": [],
   "source": [
    "control_image = load_image(\"condition_3.tif\")\n",
    "prompt =\"Satellite image\""
   ]
  },
  {
   "cell_type": "code",
   "execution_count": 25,
   "metadata": {},
   "outputs": [
    {
     "name": "stderr",
     "output_type": "stream",
     "text": [
      "100%|██████████| 100/100 [00:17<00:00,  5.87it/s]\n"
     ]
    },
    {
     "ename": "",
     "evalue": "",
     "output_type": "error",
     "traceback": [
      "\u001b[1;31mThe Kernel crashed while executing code in the current cell or a previous cell. \n",
      "\u001b[1;31mPlease review the code in the cell(s) to identify a possible cause of the failure. \n",
      "\u001b[1;31mClick <a href='https://aka.ms/vscodeJupyterKernelCrash'>here</a> for more info. \n",
      "\u001b[1;31mView Jupyter <a href='command:jupyter.viewOutput'>log</a> for further details."
     ]
    }
   ],
   "source": [
    "generator = torch.manual_seed(0)\n",
    "image = pipe(\n",
    "    prompt, num_inference_steps=100, generator=generator, image=control_image\n",
    ").images[0]\n",
    "image.save(\"output3.png\")"
   ]
  }
 ],
 "metadata": {
  "kernelspec": {
   "display_name": "venv",
   "language": "python",
   "name": "python3"
  },
  "language_info": {
   "codemirror_mode": {
    "name": "ipython",
    "version": 3
   },
   "file_extension": ".py",
   "mimetype": "text/x-python",
   "name": "python",
   "nbconvert_exporter": "python",
   "pygments_lexer": "ipython3",
   "version": "3.10.9"
  }
 },
 "nbformat": 4,
 "nbformat_minor": 2
}
