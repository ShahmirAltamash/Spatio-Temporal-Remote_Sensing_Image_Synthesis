{
 "cells": [
  {
   "cell_type": "code",
   "execution_count": 1,
   "metadata": {},
   "outputs": [],
   "source": [
    "import torch\n",
    "from torchvision import datasets, transforms\n",
    "from cleanfid import fid\n",
    "from cleanfid.features import build_feature_extractor\n",
    "from PIL import Image\n",
    "import matplotlib.pyplot as plt\n",
    "import os\n",
    "import numpy as np\n",
    "from glob import glob\n",
    "import zipfile"
   ]
  },
  {
   "cell_type": "code",
   "execution_count": 23,
   "metadata": {},
   "outputs": [],
   "source": [
    "real_path = \"Generated Images\\Att GAN Results.zip\"\n",
    "cgan_path=\"Generated Images\\cGAN Results.zip\"\n",
    "fake_path = \"Generated Images\\Ground Truths.zip\"\n",
    "rsi_path=\"F:\\Shahmir\\ControlNet Satellite Imagery\\RSI Test Images.zip\"\n",
    "vanilla_path=\"F:\\Shahmir\\ControlNet Satellite Imagery\\Vanilla Test Images.zip\""
   ]
  },
  {
   "cell_type": "code",
   "execution_count": null,
   "metadata": {},
   "outputs": [],
   "source": []
  },
  {
   "cell_type": "code",
   "execution_count": null,
   "metadata": {},
   "outputs": [],
   "source": []
  },
  {
   "cell_type": "code",
   "execution_count": null,
   "metadata": {},
   "outputs": [],
   "source": []
  },
  {
   "cell_type": "code",
   "execution_count": 31,
   "metadata": {},
   "outputs": [],
   "source": [
    "# real_path = \"E:/Shahmir/SpaceNET 7/archive/pytorch-fid/real_dataset/train_imgs\""
   ]
  },
  {
   "cell_type": "code",
   "execution_count": 33,
   "metadata": {},
   "outputs": [
    {
     "data": {
      "text/plain": [
       "60"
      ]
     },
     "execution_count": 33,
     "metadata": {},
     "output_type": "execute_result"
    }
   ],
   "source": [
    "len(os.listdir(real_path))"
   ]
  },
  {
   "cell_type": "code",
   "execution_count": 593,
   "metadata": {},
   "outputs": [],
   "source": [
    "# target_size = (299, 299)  \n",
    "\n",
    "# # Iterate through all files in the folder\n",
    "# for filename in os.listdir(real_path):\n",
    "#     if filename.endswith(('.png', '.jpg', '.jpeg', '.gif', '.bmp')):  # Add more extensions if needed\n",
    "#         file_path = os.path.join(real_path, filename)\n",
    "\n",
    "#         # Open the image\n",
    "#         img = Image.open(file_path)\n",
    "\n",
    "#         # Resize the image\n",
    "#         resized_img = np.array(img.resize(target_size)).astype(np.uint8)\n",
    "#         resized_img = Image.fromarray(resized_img)\n",
    "        \n",
    "#         # Save the resized image, overwrite the original if needed\n",
    "#         resized_img.save(file_path)\n",
    "\n",
    "# print(\"Image resizing complete.\")\n",
    "\n",
    "\n",
    "# for filename in os.listdir(fake_path):\n",
    "#     if filename.endswith(('.png', '.jpg', '.jpeg', '.gif', '.bmp')):  # Add more extensions if needed\n",
    "#         file_path = os.path.join(fake_path, filename)\n",
    "\n",
    "#         # Open the image\n",
    "#         img = Image.open(file_path)\n",
    "\n",
    "#         # Resize the image\n",
    "#         resized_img = np.array(img.resize(target_size)).astype(np.uint8)\n",
    "#         resized_img = Image.fromarray(resized_img)\n",
    "\n",
    "#         # Save the resized image, overwrite the original if needed\n",
    "#         resized_img.save(file_path)\n",
    "\n",
    "# print(\"Image resizing complete.\")"
   ]
  },
  {
   "cell_type": "code",
   "execution_count": 594,
   "metadata": {},
   "outputs": [],
   "source": [
    "# transform = transforms.Compose(\n",
    "#     [transforms.Resize((299, 299)), transforms.ToTensor()]\n",
    "# )\n",
    "\n",
    "\n",
    "# real_dataset = datasets.ImageFolder(root=\"pytorch-fid/real_dataset\", transform=transform)\n",
    "# fake_dataset = datasets.ImageFolder(root=\"pytorch-fid/cgan_dataset\", transform=transform)\n",
    "\n",
    "# real_paths = [path for path, _ in real_dataset.imgs]\n",
    "# fake_paths = [path for path, _ in fake_dataset.imgs]"
   ]
  },
  {
   "cell_type": "code",
   "execution_count": 595,
   "metadata": {},
   "outputs": [],
   "source": [
    "sample_path1 = \"sample_path1/\"\n",
    "sample_path2 = \"sample_path2/\""
   ]
  },
  {
   "cell_type": "code",
   "execution_count": 596,
   "metadata": {},
   "outputs": [],
   "source": [
    "# rand_img = 2*np.random.rand(299, 299, 3).astype(np.uint8)\n",
    "# rand_img.shape\n",
    "# plt.imsave(sample_path1 + \"rand_img.png\", rand_img)\n",
    "\n",
    "# rand_img = np.random.rand(299, 299, 3).astype(np.uint8)\n",
    "# rand_img.shape\n",
    "# plt.imsave(sample_path2 + \"rand_img.png\", rand_img)"
   ]
  },
  {
   "cell_type": "code",
   "execution_count": 597,
   "metadata": {},
   "outputs": [],
   "source": [
    "# f_v = fid_score.calculate_fid_given_paths([sample_path1, sample_path2], 1, \"cuda\", 2048)"
   ]
  },
  {
   "cell_type": "code",
   "execution_count": 598,
   "metadata": {},
   "outputs": [],
   "source": [
    "# f_v"
   ]
  },
  {
   "cell_type": "code",
   "execution_count": 599,
   "metadata": {},
   "outputs": [],
   "source": [
    "# fid_value = fid_score.calculate_fid_given_paths([real_path, fake_path], 1, \"cuda\", 2048)"
   ]
  },
  {
   "cell_type": "code",
   "execution_count": 600,
   "metadata": {},
   "outputs": [],
   "source": [
    "\n",
    "# transform=None"
   ]
  },
  {
   "cell_type": "code",
   "execution_count": 34,
   "metadata": {},
   "outputs": [
    {
     "name": "stdout",
     "output_type": "stream",
     "text": [
      "compute FID between two folders\n",
      "Found 134 images in the folder Generated Images\\cGAN Results.zip\n"
     ]
    },
    {
     "name": "stderr",
     "output_type": "stream",
     "text": [
      "FID cGAN Results.zip : 100%|██████████| 5/5 [00:07<00:00,  1.52s/it]\n"
     ]
    },
    {
     "name": "stdout",
     "output_type": "stream",
     "text": [
      "Found 134 images in the folder Generated Images\\Ground Truths.zip\n"
     ]
    },
    {
     "name": "stderr",
     "output_type": "stream",
     "text": [
      "FID Ground Truths.zip : 100%|██████████| 5/5 [00:07<00:00,  1.49s/it]\n"
     ]
    }
   ],
   "source": [
    "fid_score = fid.compute_fid(cgan_path, fake_path, mode=\"clean\", verbose=True, num_workers=0)"
   ]
  },
  {
   "cell_type": "code",
   "execution_count": 35,
   "metadata": {},
   "outputs": [
    {
     "name": "stdout",
     "output_type": "stream",
     "text": [
      "FID Score = 382.2262098793431\n"
     ]
    }
   ],
   "source": [
    "print(f\"FID Score = {fid_score}\")"
   ]
  },
  {
   "cell_type": "code",
   "execution_count": 27,
   "metadata": {},
   "outputs": [
    {
     "name": "stdout",
     "output_type": "stream",
     "text": [
      "compute KID between two folders\n",
      "Found 134 images in the folder Generated Images\\Att GAN Results.zip\n"
     ]
    },
    {
     "name": "stderr",
     "output_type": "stream",
     "text": [
      "KID Att GAN Results.zip : 100%|██████████| 5/5 [00:07<00:00,  1.58s/it]\n"
     ]
    },
    {
     "name": "stdout",
     "output_type": "stream",
     "text": [
      "Found 134 images in the folder Generated Images\\Ground Truths.zip\n"
     ]
    },
    {
     "name": "stderr",
     "output_type": "stream",
     "text": [
      "KID Ground Truths.zip : 100%|██████████| 5/5 [00:07<00:00,  1.47s/it]\n"
     ]
    }
   ],
   "source": [
    "# fid_score = fid.compute_fid(fake_path, fake_path, mode=\"clean\", verbose=True, num_workers=0)\n",
    "# fid.get_folder_features(real_path, model=\"inception-v3\", num_workers=0)\n",
    "kid_score = fid.compute_kid(real_path, fake_path, num_workers=0)"
   ]
  },
  {
   "cell_type": "code",
   "execution_count": 28,
   "metadata": {},
   "outputs": [
    {
     "name": "stdout",
     "output_type": "stream",
     "text": [
      "KID = 0.13855791115058114\n"
     ]
    }
   ],
   "source": [
    "print(f\"KID = {kid_score}\")"
   ]
  },
  {
   "cell_type": "code",
   "execution_count": 38,
   "metadata": {},
   "outputs": [
    {
     "ename": "TypeError",
     "evalue": "expected str, bytes or os.PathLike object, not list",
     "output_type": "error",
     "traceback": [
      "\u001b[1;31m---------------------------------------------------------------------------\u001b[0m",
      "\u001b[1;31mTypeError\u001b[0m                                 Traceback (most recent call last)",
      "Cell \u001b[1;32mIn[38], line 1\u001b[0m\n\u001b[1;32m----> 1\u001b[0m \u001b[43mglob\u001b[49m\u001b[43m(\u001b[49m\u001b[43mos\u001b[49m\u001b[38;5;241;43m.\u001b[39;49m\u001b[43mlistdir\u001b[49m\u001b[43m(\u001b[49m\u001b[43mreal_path\u001b[49m\u001b[43m)\u001b[49m\u001b[43m)\u001b[49m\n",
      "File \u001b[1;32mc:\\Users\\CITY3\\.conda\\envs\\shahmirenv\\lib\\glob.py:22\u001b[0m, in \u001b[0;36mglob\u001b[1;34m(pathname, recursive)\u001b[0m\n\u001b[0;32m     11\u001b[0m \u001b[38;5;28;01mdef\u001b[39;00m \u001b[38;5;21mglob\u001b[39m(pathname, \u001b[38;5;241m*\u001b[39m, recursive\u001b[38;5;241m=\u001b[39m\u001b[38;5;28;01mFalse\u001b[39;00m):\n\u001b[0;32m     12\u001b[0m \u001b[38;5;250m    \u001b[39m\u001b[38;5;124;03m\"\"\"Return a list of paths matching a pathname pattern.\u001b[39;00m\n\u001b[0;32m     13\u001b[0m \n\u001b[0;32m     14\u001b[0m \u001b[38;5;124;03m    The pattern may contain simple shell-style wildcards a la\u001b[39;00m\n\u001b[1;32m   (...)\u001b[0m\n\u001b[0;32m     20\u001b[0m \u001b[38;5;124;03m    zero or more directories and subdirectories.\u001b[39;00m\n\u001b[0;32m     21\u001b[0m \u001b[38;5;124;03m    \"\"\"\u001b[39;00m\n\u001b[1;32m---> 22\u001b[0m     \u001b[38;5;28;01mreturn\u001b[39;00m \u001b[38;5;28;43mlist\u001b[39;49m\u001b[43m(\u001b[49m\u001b[43miglob\u001b[49m\u001b[43m(\u001b[49m\u001b[43mpathname\u001b[49m\u001b[43m,\u001b[49m\u001b[43m \u001b[49m\u001b[43mrecursive\u001b[49m\u001b[38;5;241;43m=\u001b[39;49m\u001b[43mrecursive\u001b[49m\u001b[43m)\u001b[49m\u001b[43m)\u001b[49m\n",
      "File \u001b[1;32mc:\\Users\\CITY3\\.conda\\envs\\shahmirenv\\lib\\glob.py:43\u001b[0m, in \u001b[0;36m_iglob\u001b[1;34m(pathname, recursive, dironly)\u001b[0m\n\u001b[0;32m     42\u001b[0m \u001b[38;5;28;01mdef\u001b[39;00m \u001b[38;5;21m_iglob\u001b[39m(pathname, recursive, dironly):\n\u001b[1;32m---> 43\u001b[0m     dirname, basename \u001b[38;5;241m=\u001b[39m \u001b[43mos\u001b[49m\u001b[38;5;241;43m.\u001b[39;49m\u001b[43mpath\u001b[49m\u001b[38;5;241;43m.\u001b[39;49m\u001b[43msplit\u001b[49m\u001b[43m(\u001b[49m\u001b[43mpathname\u001b[49m\u001b[43m)\u001b[49m\n\u001b[0;32m     44\u001b[0m     \u001b[38;5;28;01mif\u001b[39;00m \u001b[38;5;129;01mnot\u001b[39;00m has_magic(pathname):\n\u001b[0;32m     45\u001b[0m         \u001b[38;5;28;01massert\u001b[39;00m \u001b[38;5;129;01mnot\u001b[39;00m dironly\n",
      "File \u001b[1;32mc:\\Users\\CITY3\\.conda\\envs\\shahmirenv\\lib\\ntpath.py:185\u001b[0m, in \u001b[0;36msplit\u001b[1;34m(p)\u001b[0m\n\u001b[0;32m    180\u001b[0m \u001b[38;5;28;01mdef\u001b[39;00m \u001b[38;5;21msplit\u001b[39m(p):\n\u001b[0;32m    181\u001b[0m \u001b[38;5;250m    \u001b[39m\u001b[38;5;124;03m\"\"\"Split a pathname.\u001b[39;00m\n\u001b[0;32m    182\u001b[0m \n\u001b[0;32m    183\u001b[0m \u001b[38;5;124;03m    Return tuple (head, tail) where tail is everything after the final slash.\u001b[39;00m\n\u001b[0;32m    184\u001b[0m \u001b[38;5;124;03m    Either part may be empty.\"\"\"\u001b[39;00m\n\u001b[1;32m--> 185\u001b[0m     p \u001b[38;5;241m=\u001b[39m \u001b[43mos\u001b[49m\u001b[38;5;241;43m.\u001b[39;49m\u001b[43mfspath\u001b[49m\u001b[43m(\u001b[49m\u001b[43mp\u001b[49m\u001b[43m)\u001b[49m\n\u001b[0;32m    186\u001b[0m     seps \u001b[38;5;241m=\u001b[39m _get_bothseps(p)\n\u001b[0;32m    187\u001b[0m     d, p \u001b[38;5;241m=\u001b[39m splitdrive(p)\n",
      "\u001b[1;31mTypeError\u001b[0m: expected str, bytes or os.PathLike object, not list"
     ]
    }
   ],
   "source": [
    "len(os.listdir(real_path))"
   ]
  },
  {
   "cell_type": "code",
   "execution_count": 43,
   "metadata": {},
   "outputs": [],
   "source": [
    "EXTENSIONS = ['.png', '.jpg', \".jpeg\", '.gif', '.bmp']"
   ]
  },
  {
   "cell_type": "code",
   "execution_count": 58,
   "metadata": {},
   "outputs": [],
   "source": [
    "if \".zip\" in real_path:\n",
    "        files = list(set(zipfile.ZipFile(fake_path).namelist()))"
   ]
  },
  {
   "cell_type": "code",
   "execution_count": 44,
   "metadata": {},
   "outputs": [],
   "source": [
    "files = sorted([file for ext in EXTENSIONS\n",
    "                    for file in glob(os.path.join(real_path, f\"**/*.{ext}\"), recursive=True)])"
   ]
  },
  {
   "cell_type": "code",
   "execution_count": null,
   "metadata": {},
   "outputs": [],
   "source": []
  },
  {
   "cell_type": "code",
   "execution_count": 59,
   "metadata": {},
   "outputs": [
    {
     "data": {
      "text/plain": [
       "466"
      ]
     },
     "execution_count": 59,
     "metadata": {},
     "output_type": "execute_result"
    }
   ],
   "source": [
    "len(files)"
   ]
  },
  {
   "cell_type": "code",
   "execution_count": 6,
   "metadata": {},
   "outputs": [],
   "source": [
    "mode = \"clean\"\n",
    "device = torch.device(\"cuda\") \n",
    "use_dataparallel = True"
   ]
  },
  {
   "cell_type": "code",
   "execution_count": 7,
   "metadata": {},
   "outputs": [],
   "source": [
    "feat_model = build_feature_extractor(mode, device, use_dataparallel=use_dataparallel)"
   ]
  },
  {
   "cell_type": "code",
   "execution_count": 72,
   "metadata": {},
   "outputs": [],
   "source": [
    "real_path = \"pytorch-fid/real_dataset/train_imgs\""
   ]
  },
  {
   "cell_type": "code",
   "execution_count": 74,
   "metadata": {},
   "outputs": [
    {
     "data": {
      "text/plain": [
       "1423"
      ]
     },
     "execution_count": 74,
     "metadata": {},
     "output_type": "execute_result"
    }
   ],
   "source": [
    "len(os.listdir(real_path))"
   ]
  },
  {
   "cell_type": "code",
   "execution_count": 75,
   "metadata": {},
   "outputs": [
    {
     "name": "stdout",
     "output_type": "stream",
     "text": [
      "Found 2846 images in the folder pytorch-fid/real_dataset/train_imgs\n"
     ]
    },
    {
     "name": "stderr",
     "output_type": "stream",
     "text": [
      "100%|██████████| 2846/2846 [00:28<00:00, 99.63it/s] \n"
     ]
    }
   ],
   "source": [
    "feats_real = fid.get_folder_features(real_path, feat_model, num_workers=0,\n",
    "                                        batch_size=1, device=device, mode=mode,\n",
    "                                        verbose=True)"
   ]
  },
  {
   "cell_type": "code",
   "execution_count": 60,
   "metadata": {},
   "outputs": [
    {
     "name": "stdout",
     "output_type": "stream",
     "text": [
      "Found 466 images in the folder pytorch-fid/cgan_dataset.zip\n"
     ]
    },
    {
     "name": "stderr",
     "output_type": "stream",
     "text": [
      "100%|██████████| 466/466 [00:05<00:00, 78.10it/s]\n"
     ]
    }
   ],
   "source": [
    "feats_fake = fid.get_folder_features(fake_path, feat_model, num_workers=0,\n",
    "                                        batch_size=1, device=device, mode=mode,\n",
    "                                        verbose=True)"
   ]
  },
  {
   "cell_type": "code",
   "execution_count": 76,
   "metadata": {},
   "outputs": [
    {
     "data": {
      "text/plain": [
       "(2846, 2048)"
      ]
     },
     "execution_count": 76,
     "metadata": {},
     "output_type": "execute_result"
    }
   ],
   "source": [
    "feats_real.shape"
   ]
  },
  {
   "cell_type": "code",
   "execution_count": 79,
   "metadata": {},
   "outputs": [
    {
     "data": {
      "text/plain": [
       "1422"
      ]
     },
     "execution_count": 79,
     "metadata": {},
     "output_type": "execute_result"
    }
   ],
   "source": [
    "import numpy.linalg as LA\n",
    "LA.matrix_rank(sig1)"
   ]
  },
  {
   "cell_type": "code",
   "execution_count": 61,
   "metadata": {},
   "outputs": [
    {
     "data": {
      "text/plain": [
       "(466, 2048)"
      ]
     },
     "execution_count": 61,
     "metadata": {},
     "output_type": "execute_result"
    }
   ],
   "source": [
    "feats_fake.shape"
   ]
  },
  {
   "cell_type": "code",
   "execution_count": 78,
   "metadata": {},
   "outputs": [],
   "source": [
    "mu1, sig1 = np.mean(feats_real, axis=0), np.cov(feats_real, rowvar=False)\n",
    "mu2, sig2 = np.mean(feats_fake, axis=0), np.cov(feats_fake, rowvar=False)"
   ]
  },
  {
   "cell_type": "code",
   "execution_count": 603,
   "metadata": {},
   "outputs": [
    {
     "name": "stdout",
     "output_type": "stream",
     "text": [
      "(2048, 64) (2048, 64)\n"
     ]
    }
   ],
   "source": [
    "feats1 = np.zeros((2048, 64))\n",
    "feats = np.random.randn(2048, 1)\n",
    "for i in range(64):\n",
    "    feats1[:, i] = feats[:, 0]\n",
    "feats2 = np.random.randn(2048, 64)\n",
    "print(feats1.shape, feats2.shape)"
   ]
  },
  {
   "cell_type": "code",
   "execution_count": 604,
   "metadata": {},
   "outputs": [],
   "source": [
    "mu1, sig1 = np.mean(feats1, axis=0), np.cov(feats1, rowvar=False)\n",
    "mu2, sig2 = np.mean(feats2, axis=0), np.cov(feats2, rowvar=False)"
   ]
  },
  {
   "cell_type": "code",
   "execution_count": 605,
   "metadata": {},
   "outputs": [
    {
     "data": {
      "text/plain": [
       "(64, 64)"
      ]
     },
     "execution_count": 605,
     "metadata": {},
     "output_type": "execute_result"
    }
   ],
   "source": [
    "sig1.shape"
   ]
  },
  {
   "cell_type": "code",
   "execution_count": 606,
   "metadata": {},
   "outputs": [],
   "source": [
    "\n",
    "mu1 = np.atleast_1d(mu1)\n",
    "mu2 = np.atleast_1d(mu2)\n",
    "sigma1 = np.atleast_2d(sig1)\n",
    "sigma2 = np.atleast_2d(sig2)"
   ]
  },
  {
   "cell_type": "code",
   "execution_count": 607,
   "metadata": {},
   "outputs": [
    {
     "name": "stdout",
     "output_type": "stream",
     "text": [
      "Failed to find a square root.\n"
     ]
    },
    {
     "ename": "ValueError",
     "evalue": "too many values to unpack (expected 2)",
     "output_type": "error",
     "traceback": [
      "\u001b[1;31m---------------------------------------------------------------------------\u001b[0m",
      "\u001b[1;31mValueError\u001b[0m                                Traceback (most recent call last)",
      "Cell \u001b[1;32mIn[607], line 2\u001b[0m\n\u001b[0;32m      1\u001b[0m \u001b[38;5;28;01mfrom\u001b[39;00m \u001b[38;5;21;01mscipy\u001b[39;00m \u001b[38;5;28;01mimport\u001b[39;00m linalg\n\u001b[1;32m----> 2\u001b[0m covmean, _\u001b[38;5;241m=\u001b[39m linalg\u001b[38;5;241m.\u001b[39msqrtm(sigma1\u001b[38;5;241m.\u001b[39mdot(sigma2))\n",
      "\u001b[1;31mValueError\u001b[0m: too many values to unpack (expected 2)"
     ]
    }
   ],
   "source": [
    "from scipy import linalg\n",
    "covmean, _= linalg.sqrtm(sigma1.dot(sigma2))"
   ]
  },
  {
   "cell_type": "code",
   "execution_count": null,
   "metadata": {},
   "outputs": [
    {
     "data": {
      "text/plain": [
       "array([[nan, nan, nan, ..., nan, nan, nan],\n",
       "       [nan, nan, nan, ..., nan, nan, nan],\n",
       "       [nan, nan, nan, ..., nan, nan, nan],\n",
       "       ...,\n",
       "       [nan, nan, nan, ..., nan, nan, nan],\n",
       "       [nan, nan, nan, ..., nan, nan, nan],\n",
       "       [nan, nan, nan, ..., nan, nan, nan]])"
      ]
     },
     "execution_count": 152,
     "metadata": {},
     "output_type": "execute_result"
    }
   ],
   "source": [
    "covmean"
   ]
  },
  {
   "cell_type": "code",
   "execution_count": null,
   "metadata": {},
   "outputs": [],
   "source": [
    "tr_covmean = np.trace(covmean)"
   ]
  }
 ],
 "metadata": {
  "kernelspec": {
   "display_name": "impenv",
   "language": "python",
   "name": "python3"
  },
  "language_info": {
   "codemirror_mode": {
    "name": "ipython",
    "version": 3
   },
   "file_extension": ".py",
   "mimetype": "text/x-python",
   "name": "python",
   "nbconvert_exporter": "python",
   "pygments_lexer": "ipython3",
   "version": "3.9.18"
  }
 },
 "nbformat": 4,
 "nbformat_minor": 2
}
