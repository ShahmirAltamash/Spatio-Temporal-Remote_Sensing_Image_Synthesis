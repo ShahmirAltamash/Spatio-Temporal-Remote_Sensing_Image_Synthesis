{
 "cells": [
  {
   "cell_type": "code",
   "execution_count": 1,
   "metadata": {},
   "outputs": [],
   "source": [
    "import torch\n",
    "from torchvision import datasets, transforms\n",
    "from cleanfid import fid\n",
    "from cleanfid.features import build_feature_extractor\n",
    "from PIL import Image\n",
    "import matplotlib.pyplot as plt\n",
    "import os\n",
    "import numpy as np\n",
    "from glob import glob\n",
    "import zipfile"
   ]
  },
  {
   "cell_type": "code",
   "execution_count": 23,
   "metadata": {},
   "outputs": [],
   "source": [
    "real_path = \"Generated Images\\Att GAN Results.zip\"\n",
    "cgan_path=\"Generated Images\\cGAN Results.zip\"\n",
    "fake_path = \"Generated Images\\Ground Truths.zip\"\n",
    "rsi_path=\"F:\\Shahmir\\ControlNet Satellite Imagery\\RSI Test Images.zip\"\n",
    "vanilla_path=\"F:\\Shahmir\\ControlNet Satellite Imagery\\Vanilla Test Images.zip\""
   ]
  },
  {
   "cell_type": "code",
   "execution_count": 33,
   "metadata": {},
   "outputs": [
    {
     "data": {
      "text/plain": [
       "60"
      ]
     },
     "execution_count": 33,
     "metadata": {},
     "output_type": "execute_result"
    }
   ],
   "source": [
    "len(os.listdir(real_path))"
   ]
  },
  {
   "cell_type": "code",
   "execution_count": 34,
   "metadata": {},
   "outputs": [
    {
     "name": "stdout",
     "output_type": "stream",
     "text": [
      "compute FID between two folders\n",
      "Found 134 images in the folder Generated Images\\cGAN Results.zip\n"
     ]
    },
    {
     "name": "stderr",
     "output_type": "stream",
     "text": [
      "FID cGAN Results.zip : 100%|██████████| 5/5 [00:07<00:00,  1.52s/it]\n"
     ]
    },
    {
     "name": "stdout",
     "output_type": "stream",
     "text": [
      "Found 134 images in the folder Generated Images\\Ground Truths.zip\n"
     ]
    },
    {
     "name": "stderr",
     "output_type": "stream",
     "text": [
      "FID Ground Truths.zip : 100%|██████████| 5/5 [00:07<00:00,  1.49s/it]\n"
     ]
    }
   ],
   "source": [
    "fid_score = fid.compute_fid(cgan_path, fake_path, mode=\"clean\", verbose=True, num_workers=0)"
   ]
  },
  {
   "cell_type": "code",
   "execution_count": 35,
   "metadata": {},
   "outputs": [
    {
     "name": "stdout",
     "output_type": "stream",
     "text": [
      "FID Score = 382.2262098793431\n"
     ]
    }
   ],
   "source": [
    "print(f\"FID Score = {fid_score}\")"
   ]
  },
  {
   "cell_type": "code",
   "execution_count": 27,
   "metadata": {},
   "outputs": [
    {
     "name": "stdout",
     "output_type": "stream",
     "text": [
      "compute KID between two folders\n",
      "Found 134 images in the folder Generated Images\\Att GAN Results.zip\n"
     ]
    },
    {
     "name": "stderr",
     "output_type": "stream",
     "text": [
      "KID Att GAN Results.zip : 100%|██████████| 5/5 [00:07<00:00,  1.58s/it]\n"
     ]
    },
    {
     "name": "stdout",
     "output_type": "stream",
     "text": [
      "Found 134 images in the folder Generated Images\\Ground Truths.zip\n"
     ]
    },
    {
     "name": "stderr",
     "output_type": "stream",
     "text": [
      "KID Ground Truths.zip : 100%|██████████| 5/5 [00:07<00:00,  1.47s/it]\n"
     ]
    }
   ],
   "source": [
    "# fid_score = fid.compute_fid(fake_path, fake_path, mode=\"clean\", verbose=True, num_workers=0)\n",
    "# fid.get_folder_features(real_path, model=\"inception-v3\", num_workers=0)\n",
    "kid_score = fid.compute_kid(real_path, fake_path, num_workers=0)"
   ]
  },
  {
   "cell_type": "code",
   "execution_count": 28,
   "metadata": {},
   "outputs": [
    {
     "name": "stdout",
     "output_type": "stream",
     "text": [
      "KID = 0.13855791115058114\n"
     ]
    }
   ],
   "source": [
    "print(f\"KID = {kid_score}\")"
   ]
  }
 ],
 "metadata": {
  "kernelspec": {
   "display_name": "impenv",
   "language": "python",
   "name": "python3"
  },
  "language_info": {
   "codemirror_mode": {
    "name": "ipython",
    "version": 3
   },
   "file_extension": ".py",
   "mimetype": "text/x-python",
   "name": "python",
   "nbconvert_exporter": "python",
   "pygments_lexer": "ipython3",
   "version": "3.9.18"
  }
 },
 "nbformat": 4,
 "nbformat_minor": 2
}
